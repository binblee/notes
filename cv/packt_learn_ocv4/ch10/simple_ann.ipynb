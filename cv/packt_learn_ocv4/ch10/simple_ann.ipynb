{
 "cells": [
  {
   "cell_type": "code",
   "execution_count": 1,
   "metadata": {},
   "outputs": [],
   "source": [
    "import cv2\n",
    "import numpy as np"
   ]
  },
  {
   "cell_type": "code",
   "execution_count": 2,
   "metadata": {},
   "outputs": [],
   "source": [
    "ann = cv2.ml.ANN_MLP_create()\n",
    "ann.setLayerSizes(np.array([9, 15, 9], np.uint8))\n",
    "ann.setActivationFunction(cv2.ml.ANN_MLP_SIGMOID_SYM, 0.6, 1.0)\n",
    "ann.setTrainMethod(cv2.ml.ANN_MLP_BACKPROP, 0.1, 0.1)\n",
    "ann.setTermCriteria((cv2.TERM_CRITERIA_MAX_ITER | cv2.TERM_CRITERIA_EPS, 100, 1.0))"
   ]
  },
  {
   "cell_type": "code",
   "execution_count": 3,
   "metadata": {},
   "outputs": [
    {
     "data": {
      "text/plain": [
       "True"
      ]
     },
     "execution_count": 3,
     "metadata": {},
     "output_type": "execute_result"
    }
   ],
   "source": [
    "training_samples = np.array(\n",
    "    [[1.2, 1.3, 1.9, 2.2, 2.3, 2.9, 3.0, 3.2, 3.3]], np.float32)\n",
    "layout = cv2.ml.ROW_SAMPLE\n",
    "training_responses = np.array(\n",
    "    [[0.0, 0.0, 0.0, 0.0, 0.0, 1.0, 0.0, 0.0, 0.0]], np.float32)\n",
    "data = cv2.ml.TrainData_create(\n",
    "    training_samples, layout, training_responses)\n",
    "ann.train(data)"
   ]
  },
  {
   "cell_type": "code",
   "execution_count": 6,
   "metadata": {},
   "outputs": [
    {
     "data": {
      "text/plain": [
       "(5.0,\n",
       " array([[-0.08763029, -0.01616517,  0.13196233,  0.0402631 ,  0.05711843,\n",
       "          1.1642447 ,  0.18130444,  0.1857026 , -0.07486832]],\n",
       "       dtype=float32))"
      ]
     },
     "execution_count": 6,
     "metadata": {},
     "output_type": "execute_result"
    }
   ],
   "source": [
    "test_samples = np.array (\n",
    "    [[1.4, 1.5, 1.2, 2.0,\n",
    " 2.5, 2.8, 3.0, 3.1, 3.8]], np.float32)\n",
    "prediction = ann.predict (test_samples)\n",
    "prediction"
   ]
  }
 ],
 "metadata": {
  "kernelspec": {
   "display_name": "cv",
   "language": "python",
   "name": "python3"
  },
  "language_info": {
   "codemirror_mode": {
    "name": "ipython",
    "version": 3
   },
   "file_extension": ".py",
   "mimetype": "text/x-python",
   "name": "python",
   "nbconvert_exporter": "python",
   "pygments_lexer": "ipython3",
   "version": "3.11.5"
  }
 },
 "nbformat": 4,
 "nbformat_minor": 2
}
