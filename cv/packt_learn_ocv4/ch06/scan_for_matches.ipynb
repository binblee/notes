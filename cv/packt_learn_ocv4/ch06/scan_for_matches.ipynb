{
 "cells": [
  {
   "cell_type": "code",
   "execution_count": 1,
   "metadata": {},
   "outputs": [],
   "source": [
    "import os\n",
    "import numpy as np\n",
    "import cv2"
   ]
  },
  {
   "cell_type": "code",
   "execution_count": 4,
   "metadata": {},
   "outputs": [],
   "source": [
    "# Read the query image.\n",
    "folder = '../images/tattoos'\n",
    "query = cv2.imread(os.path.join(folder, 'query.png'),\n",
    "                   cv2.IMREAD_GRAYSCALE)"
   ]
  },
  {
   "cell_type": "code",
   "execution_count": 5,
   "metadata": {},
   "outputs": [
    {
     "name": "stdout",
     "output_type": "stream",
     "text": [
      "['anchor-woman.npy', 'anchor-man.npy', 'lady-featherly.npy', 'steel-arm.npy', 'circus-woman.npy']\n"
     ]
    }
   ],
   "source": [
    "# create files, images, descriptors globals\n",
    "files = []\n",
    "images = []\n",
    "descriptors = []\n",
    "for (dirpath, dirnames, filenames) in os.walk(folder):\n",
    "    files.extend(filenames)\n",
    "    for f in files:\n",
    "        if f.endswith('npy') and f != 'query.npy':\n",
    "            descriptors.append(f)\n",
    "print(descriptors)"
   ]
  },
  {
   "cell_type": "code",
   "execution_count": 7,
   "metadata": {},
   "outputs": [],
   "source": [
    "# Create the SIFT detector.\n",
    "sift = cv2.SIFT_create()\n",
    "\n",
    "# Perform SIFT feature detection and description on the\n",
    "# query image.\n",
    "query_kp, query_ds = sift.detectAndCompute(query, None)\n",
    "\n",
    "# Define FLANN-based matching parameters.\n",
    "FLANN_INDEX_KDTREE = 1\n",
    "index_params = dict(algorithm=FLANN_INDEX_KDTREE, trees=5)\n",
    "search_params = dict(checks=50)\n",
    "\n",
    "# Create the FLANN matcher.\n",
    "flann = cv2.FlannBasedMatcher(index_params, search_params)\n",
    "\n",
    "# Define the minimum number of good matches for a suspect.\n",
    "MIN_NUM_GOOD_MATCHES = 10\n",
    "\n",
    "greatest_num_good_matches = 0\n",
    "prime_suspect = None"
   ]
  },
  {
   "cell_type": "code",
   "execution_count": 8,
   "metadata": {},
   "outputs": [
    {
     "name": "stdout",
     "output_type": "stream",
     "text": [
      ">> Initiating picture scan...\n",
      "--------- analyzing anchor-woman.npy for matches ------------\n",
      "ANCHOR-WOMAN is NOT a suspect. (2 matches)\n",
      "--------- analyzing anchor-man.npy for matches ------------\n",
      "ANCHOR-MAN is a suspect! (44 matches)\n",
      "--------- analyzing lady-featherly.npy for matches ------------\n",
      "LADY-FEATHERLY is NOT a suspect. (2 matches)\n",
      "--------- analyzing steel-arm.npy for matches ------------\n",
      "STEEL-ARM is NOT a suspect. (0 matches)\n",
      "--------- analyzing circus-woman.npy for matches ------------\n",
      "CIRCUS-WOMAN is NOT a suspect. (1 matches)\n",
      "Prime suspect is ANCHOR-MAN.\n"
     ]
    }
   ],
   "source": [
    "print('>> Initiating picture scan...')\n",
    "for d in descriptors:\n",
    "    print('--------- analyzing %s for matches ------------' % d)\n",
    "    matches = flann.knnMatch(\n",
    "        query_ds, np.load(os.path.join(folder, d)), k=2)\n",
    "    good_matches = []\n",
    "    for m, n in matches:\n",
    "        if m.distance < 0.7 * n.distance:\n",
    "            good_matches.append(m)\n",
    "    num_good_matches = len(good_matches)\n",
    "    name = d.replace('.npy', '').upper()\n",
    "    if num_good_matches >= MIN_NUM_GOOD_MATCHES:\n",
    "        print('%s is a suspect! (%d matches)' % \\\n",
    "            (name, num_good_matches))\n",
    "        if num_good_matches > greatest_num_good_matches:\n",
    "            greatest_num_good_matches = num_good_matches\n",
    "            prime_suspect = name\n",
    "    else:\n",
    "        print('%s is NOT a suspect. (%d matches)' % \\\n",
    "            (name, num_good_matches))\n",
    "\n",
    "if prime_suspect is not None:\n",
    "    print('Prime suspect is %s.' % prime_suspect)\n",
    "else:\n",
    "    print('There is no suspect.')"
   ]
  }
 ],
 "metadata": {
  "kernelspec": {
   "display_name": "cv",
   "language": "python",
   "name": "python3"
  },
  "language_info": {
   "codemirror_mode": {
    "name": "ipython",
    "version": 3
   },
   "file_extension": ".py",
   "mimetype": "text/x-python",
   "name": "python",
   "nbconvert_exporter": "python",
   "pygments_lexer": "ipython3",
   "version": "3.11.5"
  }
 },
 "nbformat": 4,
 "nbformat_minor": 2
}
