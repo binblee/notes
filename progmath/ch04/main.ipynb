{
 "cells": [
  {
   "cell_type": "code",
   "execution_count": 2,
   "metadata": {},
   "outputs": [
    {
     "name": "stdout",
     "output_type": "stream",
     "text": [
      "880\n",
      "880\n"
     ]
    }
   ],
   "source": [
    "import teapot_x\n",
    "import teapot\n",
    "\n",
    "faces = teapot_x.load_triangles()\n",
    "print(len(faces))\n",
    "faces = teapot.load_triangles()\n",
    "print(len(faces))"
   ]
  }
 ],
 "metadata": {
  "kernelspec": {
   "display_name": "progmath",
   "language": "python",
   "name": "python3"
  },
  "language_info": {
   "codemirror_mode": {
    "name": "ipython",
    "version": 3
   },
   "file_extension": ".py",
   "mimetype": "text/x-python",
   "name": "python",
   "nbconvert_exporter": "python",
   "pygments_lexer": "ipython3",
   "version": "3.11.5"
  },
  "orig_nbformat": 4
 },
 "nbformat": 4,
 "nbformat_minor": 2
}
