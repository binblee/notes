{
 "cells": [
  {
   "cell_type": "code",
   "execution_count": 2,
   "metadata": {},
   "outputs": [],
   "source": [
    "from sympy import *"
   ]
  },
  {
   "cell_type": "code",
   "execution_count": 3,
   "metadata": {},
   "outputs": [
    {
     "data": {
      "text/latex": [
       "$\\displaystyle \\frac{a}{v_{1} \\cos{\\left(\\alpha \\right)}} + \\frac{b}{v_{2} \\cos{\\left(\\beta \\right)}}$"
      ],
      "text/plain": [
       "a/(v1*cos(alpha)) + b/(v2*cos(beta))"
      ]
     },
     "execution_count": 3,
     "metadata": {},
     "output_type": "execute_result"
    }
   ],
   "source": [
    "alpha, beta, v1, v2, a, b, c, lambda_symbol = symbols('alpha beta v1 v2 a b c lambda') \n",
    "f = a/(v1*cos(alpha)) + b/(v2*cos(beta))\n",
    "f"
   ]
  },
  {
   "cell_type": "code",
   "execution_count": 4,
   "metadata": {},
   "outputs": [
    {
     "data": {
      "text/latex": [
       "$\\displaystyle \\lambda \\left(a \\tan{\\left(\\alpha \\right)} + b \\tan{\\left(\\beta \\right)} - c\\right)$"
      ],
      "text/plain": [
       "lambda*(a*tan(alpha) + b*tan(beta) - c)"
      ]
     },
     "execution_count": 4,
     "metadata": {},
     "output_type": "execute_result"
    }
   ],
   "source": [
    "p = lambda_symbol * (a * tan(alpha)+b*tan(beta)-c)\n",
    "p"
   ]
  },
  {
   "cell_type": "code",
   "execution_count": 9,
   "metadata": {},
   "outputs": [
    {
     "data": {
      "text/latex": [
       "$\\displaystyle \\frac{a \\sin{\\left(\\alpha \\right)}}{v_{1} \\cos^{2}{\\left(\\alpha \\right)}}$"
      ],
      "text/plain": [
       "a*sin(alpha)/(v1*cos(alpha)**2)"
      ]
     },
     "execution_count": 9,
     "metadata": {},
     "output_type": "execute_result"
    }
   ],
   "source": [
    "f_x_derivative = Derivative(f, alpha).doit()\n",
    "f_x_derivative"
   ]
  },
  {
   "cell_type": "code",
   "execution_count": 11,
   "metadata": {},
   "outputs": [
    {
     "data": {
      "text/plain": [
       "[{a: 0}, {alpha: 0}, {alpha: pi}]"
      ]
     },
     "execution_count": 11,
     "metadata": {},
     "output_type": "execute_result"
    }
   ],
   "source": [
    "solve(f_x_derivative)"
   ]
  },
  {
   "cell_type": "code",
   "execution_count": 7,
   "metadata": {},
   "outputs": [
    {
     "data": {
      "text/latex": [
       "$\\displaystyle \\frac{b \\sin{\\left(\\beta \\right)}}{v_{2} \\cos^{2}{\\left(\\beta \\right)}}$"
      ],
      "text/plain": [
       "b*sin(beta)/(v2*cos(beta)**2)"
      ]
     },
     "execution_count": 7,
     "metadata": {},
     "output_type": "execute_result"
    }
   ],
   "source": [
    "Derivative(f, beta).doit()"
   ]
  }
 ],
 "metadata": {
  "kernelspec": {
   "display_name": "progmath",
   "language": "python",
   "name": "python3"
  },
  "language_info": {
   "codemirror_mode": {
    "name": "ipython",
    "version": 3
   },
   "file_extension": ".py",
   "mimetype": "text/x-python",
   "name": "python",
   "nbconvert_exporter": "python",
   "pygments_lexer": "ipython3",
   "version": "3.11.5"
  }
 },
 "nbformat": 4,
 "nbformat_minor": 2
}
