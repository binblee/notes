{
 "cells": [
  {
   "cell_type": "code",
   "execution_count": 7,
   "metadata": {},
   "outputs": [
    {
     "name": "stdout",
     "output_type": "stream",
     "text": [
      "[[ 1 -1]\n",
      " [ 1  2]]\n",
      "[0 8]\n",
      "[2.66666667 2.66666667]\n"
     ]
    }
   ],
   "source": [
    "import numpy as np\n",
    "# x - y = 0\n",
    "# x + 2y = 8\n",
    "# [ 1  -1 ][x]   [0]\n",
    "# [ 1   2 ][y]   [8]\n",
    "matrix = np.array(((1, -1), (1, 2)))\n",
    "output = np.array((0,8))\n",
    "xy = np.linalg.solve(matrix, output)\n",
    "print(matrix)\n",
    "print(output)\n",
    "print(xy)"
   ]
  },
  {
   "cell_type": "markdown",
   "metadata": {},
   "source": [
    "x + y - z = -1\n",
    "2y - z = 3\n",
    "x + z = 2"
   ]
  },
  {
   "cell_type": "code",
   "execution_count": 10,
   "metadata": {},
   "outputs": [
    {
     "data": {
      "text/plain": [
       "array([-1.,  3.,  3.])"
      ]
     },
     "execution_count": 10,
     "metadata": {},
     "output_type": "execute_result"
    }
   ],
   "source": [
    "matrix = np.array(((1, 1, -1), (0, 2, -1), (1, 0, 1)))\n",
    "vector = np.array((-1, 3, 2))\n",
    "np.linalg.solve(matrix, vector)"
   ]
  },
  {
   "cell_type": "markdown",
   "metadata": {},
   "source": [
    "练习7.26，利用逆矩阵求方程的解"
   ]
  },
  {
   "cell_type": "code",
   "execution_count": 13,
   "metadata": {},
   "outputs": [
    {
     "data": {
      "text/plain": [
       "array([[ 1.00000000e+00,  1.11022302e-16, -1.11022302e-16],\n",
       "       [ 0.00000000e+00,  1.00000000e+00,  0.00000000e+00],\n",
       "       [ 0.00000000e+00,  0.00000000e+00,  1.00000000e+00]])"
      ]
     },
     "execution_count": 13,
     "metadata": {},
     "output_type": "execute_result"
    }
   ],
   "source": [
    "matrix = np.array(((1, 1, -1), (0, 2, -1), (1, 0, 1)))\n",
    "vector = np.array((-1, 3, 2))\n",
    "inverse = np.linalg.inv(matrix)\n",
    "np.matmul(inverse,matrix)"
   ]
  },
  {
   "cell_type": "code",
   "execution_count": 14,
   "metadata": {},
   "outputs": [
    {
     "data": {
      "text/plain": [
       "array([-3.,  3.,  2.])"
      ]
     },
     "execution_count": 14,
     "metadata": {},
     "output_type": "execute_result"
    }
   ],
   "source": [
    "np.matmul(vector, inverse)"
   ]
  },
  {
   "cell_type": "markdown",
   "metadata": {},
   "source": [
    "练习7.19"
   ]
  },
  {
   "cell_type": "code",
   "execution_count": 1,
   "metadata": {},
   "outputs": [],
   "source": [
    "from vectors import *\n",
    "\n",
    "def plane_equation(p1, p2, p3):\n",
    "    p1p2 = subtract(p2, p1)\n",
    "    p1p3 = subtract(p3, p1)\n",
    "    a, b, c = cross(p1p2, p1p3)\n",
    "    d = dot((a,b,c), p1)\n",
    "    return a,b,c,d"
   ]
  },
  {
   "cell_type": "code",
   "execution_count": 2,
   "metadata": {},
   "outputs": [
    {
     "data": {
      "text/plain": [
       "(3, 3, 3, 9)"
      ]
     },
     "execution_count": 2,
     "metadata": {},
     "output_type": "execute_result"
    }
   ],
   "source": [
    "plane_equation((1,1,1), (3,0,0), (0,3,0))"
   ]
  }
 ],
 "metadata": {
  "kernelspec": {
   "display_name": "progmath",
   "language": "python",
   "name": "python3"
  },
  "language_info": {
   "codemirror_mode": {
    "name": "ipython",
    "version": 3
   },
   "file_extension": ".py",
   "mimetype": "text/x-python",
   "name": "python",
   "nbconvert_exporter": "python",
   "pygments_lexer": "ipython3",
   "version": "3.11.5"
  },
  "orig_nbformat": 4
 },
 "nbformat": 4,
 "nbformat_minor": 2
}
