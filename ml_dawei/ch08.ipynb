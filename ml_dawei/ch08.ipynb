{
 "cells": [
  {
   "cell_type": "markdown",
   "metadata": {},
   "source": [
    "逻辑回归"
   ]
  },
  {
   "cell_type": "code",
   "execution_count": 3,
   "metadata": {},
   "outputs": [],
   "source": [
    "from sklearn.datasets import load_breast_cancer\n",
    "from sklearn.model_selection import train_test_split\n",
    "from sklearn.preprocessing import StandardScaler\n",
    "from sklearn.linear_model import LogisticRegression\n",
    "from sklearn.metrics import classification_report\n",
    "bc = load_breast_cancer()"
   ]
  },
  {
   "cell_type": "code",
   "execution_count": 4,
   "metadata": {},
   "outputs": [
    {
     "name": "stdout",
     "output_type": "stream",
     "text": [
      "Accuracy: 0.9707602339181286\n",
      "              precision    recall  f1-score   support\n",
      "\n",
      "      benign       0.96      0.97      0.96        66\n",
      "   malignant       0.98      0.97      0.98       105\n",
      "\n",
      "    accuracy                           0.97       171\n",
      "   macro avg       0.97      0.97      0.97       171\n",
      "weighted avg       0.97      0.97      0.97       171\n",
      "\n"
     ]
    }
   ],
   "source": [
    "x = bc.data\n",
    "y = bc.target\n",
    "x_train, x_test, y_train, y_test = train_test_split(x, y, random_state=33, test_size=0.3)\n",
    "bc_ss = StandardScaler()\n",
    "x_train = bc_ss.fit_transform(x_train)\n",
    "x_test = bc_ss.transform(x_test)\n",
    "lr = LogisticRegression()\n",
    "lr.fit(x_train, y_train)\n",
    "predicts = lr.predict(x_test)\n",
    "print('Accuracy:', lr.score(x_test, y_test))\n",
    "print(classification_report(y_test,predicts,target_names=['benign','malignant']))\n"
   ]
  }
 ],
 "metadata": {
  "kernelspec": {
   "display_name": "ml_dawei",
   "language": "python",
   "name": "python3"
  },
  "language_info": {
   "codemirror_mode": {
    "name": "ipython",
    "version": 3
   },
   "file_extension": ".py",
   "mimetype": "text/x-python",
   "name": "python",
   "nbconvert_exporter": "python",
   "pygments_lexer": "ipython3",
   "version": "3.11.5"
  }
 },
 "nbformat": 4,
 "nbformat_minor": 2
}
