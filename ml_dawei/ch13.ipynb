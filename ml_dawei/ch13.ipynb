{
 "cells": [
  {
   "cell_type": "code",
   "execution_count": 23,
   "metadata": {},
   "outputs": [
    {
     "data": {
      "image/png": "[encoded data removed]",
      "text/plain": [
       "<Figure size 640x480 with 1 Axes>"
      ]
     },
     "metadata": {},
     "output_type": "display_data"
    }
   ],
   "source": [
    "import numpy as np\n",
    "import matplotlib.pyplot as plt\n",
    "x = np.linspace(-5, 5, 500)\n",
    "sigmoid = 1/(1+np.exp(-x))\n",
    "tanh = np.tanh(x)\n",
    "relu = np.maximum(x, 0)\n",
    "plt.figure()\n",
    "plt.plot(x, sigmoid, label='sigmoid')\n",
    "plt.plot(x, tanh, label='tanh')\n",
    "plt.plot(x, relu, label='relu')\n",
    "plt.legend(loc='best')\n",
    "plt.xlim(-5, 5)\n",
    "# plt.ylim(-1, 1)\n",
    "plt.show()\n"
   ]
  },
  {
   "cell_type": "markdown",
   "metadata": {},
   "source": [
    "反向传播算法"
   ]
  },
  {
   "cell_type": "code",
   "execution_count": 44,
   "metadata": {},
   "outputs": [],
   "source": [
    "from numpy import exp, array, random, dot\n",
    "class NeuralNetwork:\n",
    "    def __init__(self):\n",
    "        random.seed(0)\n",
    "        self.synaptic_weights = 2 * random.random((3, 1)) - 1\n",
    "    def sigmoid(self, x):\n",
    "        return 1/(1+exp(-x))\n",
    "    def sigmoid_derivative(self, x):\n",
    "        return x*(1-x)\n",
    "    def input(self, inputs):\n",
    "        return self.sigmoid(dot(inputs, self.synaptic_weights))\n",
    "    def train(self, inputs, outputs, iterations):\n",
    "        for it in range(iterations):\n",
    "            output = self.input(inputs)\n",
    "            error = outputs - output\n",
    "            change = dot(inputs.T, error * self.sigmoid_derivative(output))\n",
    "            self.synaptic_weights += change"
   ]
  },
  {
   "cell_type": "code",
   "execution_count": 52,
   "metadata": {},
   "outputs": [
    {
     "name": "stdout",
     "output_type": "stream",
     "text": [
      "[[0.09762701]\n",
      " [0.43037873]\n",
      " [0.20552675]]\n",
      "[[10.38031068]\n",
      " [-0.20662065]\n",
      " [-4.98434769]]\n",
      "[0.99996896]\n"
     ]
    }
   ],
   "source": [
    "nn = NeuralNetwork()\n",
    "print(nn.synaptic_weights)\n",
    "inputs = array([[0, 0, 1], [1, 1, 1], [1, 0, 1], [0, 1, 1]])\n",
    "outputs = array([[0, 1, 1, 0]]).T\n",
    "nn.train(inputs, outputs, 20000)\n",
    "print(nn.synaptic_weights)\n",
    "print(nn.input(array([1, 0, 0])))"
   ]
  },
  {
   "cell_type": "markdown",
   "metadata": {},
   "source": [
    "手写识别"
   ]
  },
  {
   "cell_type": "code",
   "execution_count": 53,
   "metadata": {},
   "outputs": [],
   "source": [
    "from sklearn.datasets import load_digits\n",
    "digits = load_digits()\n",
    "x = digits.data\n",
    "y = digits.target\n",
    "from sklearn.model_selection import train_test_split\n",
    "x_train, x_test, y_train, y_test = train_test_split(x, y, random_state=33, test_size=0.25)\n",
    "from sklearn.preprocessing import StandardScaler\n",
    "scaler = StandardScaler()\n",
    "x_train = scaler.fit_transform(x_train)\n",
    "x_test = scaler.transform(x_test)"
   ]
  },
  {
   "cell_type": "code",
   "execution_count": 58,
   "metadata": {},
   "outputs": [
    {
     "name": "stdout",
     "output_type": "stream",
     "text": [
      "Accuracy: 0.98\n",
      "              precision    recall  f1-score   support\n",
      "\n",
      "           0       1.00      1.00      1.00        35\n",
      "           1       0.96      1.00      0.98        54\n",
      "           2       1.00      0.98      0.99        44\n",
      "           3       1.00      0.96      0.98        46\n",
      "           4       1.00      0.97      0.99        35\n",
      "           5       1.00      0.96      0.98        48\n",
      "           6       0.98      0.98      0.98        51\n",
      "           7       0.97      1.00      0.99        35\n",
      "           8       0.93      0.97      0.95        58\n",
      "           9       0.98      1.00      0.99        44\n",
      "\n",
      "    accuracy                           0.98       450\n",
      "   macro avg       0.98      0.98      0.98       450\n",
      "weighted avg       0.98      0.98      0.98       450\n",
      "\n"
     ]
    }
   ],
   "source": [
    "from sklearn.neural_network import MLPClassifier\n",
    "mlpc = MLPClassifier()\n",
    "mlpc.fit(x_train, y_train)\n",
    "predicts = mlpc.predict(x_test)\n",
    "from sklearn.metrics import classification_report\n",
    "print('Accuracy:', mlpc.score(x_test, y_test))\n",
    "print(classification_report(y_test, predicts, target_names=digits.target_names.astype(str)))"
   ]
  }
 ],
 "metadata": {
  "kernelspec": {
   "display_name": "ml_dawei",
   "language": "python",
   "name": "python3"
  },
  "language_info": {
   "codemirror_mode": {
    "name": "ipython",
    "version": 3
   },
   "file_extension": ".py",
   "mimetype": "text/x-python",
   "name": "python",
   "nbconvert_exporter": "python",
   "pygments_lexer": "ipython3",
   "version": "3.11.5"
  }
 },
 "nbformat": 4,
 "nbformat_minor": 2
}
