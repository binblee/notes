{
 "cells": [
  {
   "cell_type": "markdown",
   "metadata": {},
   "source": [
    "SVM"
   ]
  },
  {
   "cell_type": "code",
   "execution_count": 2,
   "metadata": {},
   "outputs": [],
   "source": [
    "from sklearn.datasets import load_breast_cancer\n",
    "from sklearn.model_selection import train_test_split\n",
    "from sklearn.preprocessing import StandardScaler\n",
    "from sklearn.metrics import classification_report\n",
    "bc = load_breast_cancer()\n",
    "data = bc.data\n",
    "target = bc.target\n",
    "data_train, data_test, target_train, target_test = train_test_split(data, target, random_state=33, test_size=0.3)\n",
    "bc_ss = StandardScaler()\n",
    "data_train = bc_ss.fit_transform(data_train)\n",
    "data_test = bc_ss.transform(data_test)"
   ]
  },
  {
   "cell_type": "code",
   "execution_count": 5,
   "metadata": {},
   "outputs": [
    {
     "name": "stdout",
     "output_type": "stream",
     "text": [
      "Accuracy:  0.9766081871345029\n",
      "              precision    recall  f1-score   support\n",
      "\n",
      "      benign       0.98      0.95      0.97        66\n",
      "   malignant       0.97      0.99      0.98       105\n",
      "\n",
      "    accuracy                           0.98       171\n",
      "   macro avg       0.98      0.97      0.98       171\n",
      "weighted avg       0.98      0.98      0.98       171\n",
      "\n"
     ]
    },
    {
     "name": "stderr",
     "output_type": "stream",
     "text": [
      "/Users/libin/.virtualenvs/ml_dawei/lib/python3.11/site-packages/sklearn/svm/_classes.py:32: FutureWarning: The default value of `dual` will change from `True` to `'auto'` in 1.5. Set the value of `dual` explicitly to suppress the warning.\n",
      "  warnings.warn(\n"
     ]
    }
   ],
   "source": [
    "from sklearn.svm import LinearSVC\n",
    "lsvc = LinearSVC()\n",
    "lsvc.fit(data_train, target_train)\n",
    "predicts = lsvc.predict(data_test)\n",
    "print('Accuracy: ', lsvc.score(data_test, target_test))\n",
    "print(classification_report(target_test,predicts,target_names=['benign','malignant']))\n"
   ]
  }
 ],
 "metadata": {
  "kernelspec": {
   "display_name": "ml_dawei",
   "language": "python",
   "name": "python3"
  },
  "language_info": {
   "codemirror_mode": {
    "name": "ipython",
    "version": 3
   },
   "file_extension": ".py",
   "mimetype": "text/x-python",
   "name": "python",
   "nbconvert_exporter": "python",
   "pygments_lexer": "ipython3",
   "version": "3.11.5"
  }
 },
 "nbformat": 4,
 "nbformat_minor": 2
}
